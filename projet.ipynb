{
 "cells": [
  {
   "cell_type": "code",
   "execution_count": null,
   "metadata": {},
   "outputs": [
    {
     "name": "stdout",
     "output_type": "stream",
     "text": [
      "\n",
      "1. Ajouter une tâche\n",
      "2. Afficher les tâches\n",
      "3. Marquer une tâche comme terminée\n",
      "4. Supprimer une tâche\n",

      "5. Quitter\n"
     ]
    },
    {
     "name": "stdin",
     "output_type": "stream",
     "text": [
      "Choisissez une option :  2\n"
     ]
    },
    {
     "name": "stdout",
     "output_type": "stream",
     "text": [
      "Aucune tâche trouvée.\n",
      "\n",
      "1. Ajouter une tâche\n",
      "2. Afficher les tâches\n",
      "3. Marquer une tâche comme terminée\n",
      "4. Supprimer une tâche\n",
      "5. Quitter\n"

     ]
    }
   ],
   "source": [
    "import json\n",
    "from datetime import datetime\n",
    "\n",
    "# Liste des tâches\n",
    "tasks = []\n",
    "\n",
    "def add_task(name, description, due_date):\n",
    "    \"\"\"Ajoute une tâche avec un nom, une description et une date d'échéance.\"\"\"\n",
    "    tasks.append({\n",
    "        \"name\": name,\n",
    "        \"description\": description,\n",
    "        \"due_date\": due_date,\n",
    "        \"completed\": False\n",
    "    })\n",
    "    print(f\"Tâche ajoutée : {name} (Échéance : {due_date})\")\n",
    "\n",
    "def view_tasks():\n",
    "    \"\"\"Affiche toutes les tâches.\"\"\"\n",
    "    if not tasks:\n",
    "        print(\"Aucune tâche trouvée.\")\n",
    "        return\n",
    "    for i, task in enumerate(tasks):\n",
    "        status = \"Terminée\" if task[\"completed\"] else \"En cours\"\n",
    "        print(f\"{i + 1}. [{status}] {task['name']} - {task['description']} (Échéance : {task['due_date']})\")\n",
    "\n",
    "def complete_task(task_index):\n",
    "    \"\"\"Marque une tâche comme terminée.\"\"\"\n",
    "    try:\n",
    "        tasks[task_index - 1][\"completed\"] = True\n",
    "        print(f\"Tâche terminée : {tasks[task_index - 1]['name']}\")\n",
    "    except IndexError:\n",
    "        print(\"Indice de tâche invalide.\")\n",
    "\n",
    "def delete_task(task_index):\n",
    "    \"\"\"Supprime une tâche.\"\"\"\n",
    "    try:\n",
    "        removed = tasks.pop(task_index - 1)\n",
    "        print(f\"Tâche supprimée : {removed['name']}\")\n",
    "    except IndexError:\n",
    "        print(\"Indice de tâche invalide.\")\n",
    "\n",
    "# Menu et interaction CLI\n",
    "while True:\n",
    "    print(\"\\n1. Ajouter une tâche\\n2. Afficher les tâches\\n3. Marquer une tâche comme terminée\\n4. Supprimer une tâche\\n5. Quitter\")\n",
    "    choice = input(\"Choisissez une option : \")\n",
    "    \n",
    "    if choice == \"1\":\n",
    "        # Saisie des informations de la tâche\n",
    "        name = input(\"Nom de la tâche : \")\n",
    "        description = input(\"Description de la tâche : \")\n",
    "        due_date = input(\"Date d'échéance (YYYY-MM-DD) : \")\n",
    "        \n",
    "        # Validation de la date\n",
    "        try:\n",
    "            datetime.strptime(due_date, \"%Y-%m-%d\")\n",
    "            add_task(name, description, due_date)\n",
    "        except ValueError:\n",
    "            print(\"Format de date invalide. Veuillez entrer une date au format YYYY-MM-DD.\")\n",
    "    \n",
    "    elif choice == \"2\":\n",
    "        view_tasks()\n",
    "    \n",
    "    elif choice == \"3\":\n",
    "        idx = int(input(\"Numéro de la tâche à marquer comme terminée : \"))\n",
    "        complete_task(idx)\n",
    "    \n",
    "    elif choice == \"4\":\n",
    "        idx = int(input(\"Numéro de la tâche à supprimer : \"))\n",
    "        delete_task(idx)\n",
    "    \n",
    "    elif choice == \"5\":\n",
    "        # Sauvegarde des tâches dans un fichier JSON avant de quitter\n",
    "        with open(\"tasks.json\", \"w\") as f:\n",
    "            json.dump(tasks, f, indent=4)\n",
    "        print(\"Tâches sauvegardées. Au revoir !\")\n",
    "        break\n",
    "    \n",
    "    else:\n",
    "        print(\"Choix invalide.\")"
   ]
  },
  {
   "cell_type": "code",
   "execution_count": null,
   "metadata": {},
   "outputs": [],
   "source": []
  }
 ],
 "metadata": {
  "kernelspec": {

   "display_name": "Python 3 (ipykernel)",

   "language": "python",
   "name": "python3"
  },
  "language_info": {
   "codemirror_mode": {
    "name": "ipython",
    "version": 3
   },
   "file_extension": ".py",
   "mimetype": "text/x-python",
   "name": "python",
   "nbconvert_exporter": "python",
   "pygments_lexer": "ipython3",

   "version": "3.12.7"
  }
 },
 "nbformat": 4,
 "nbformat_minor": 4
}
